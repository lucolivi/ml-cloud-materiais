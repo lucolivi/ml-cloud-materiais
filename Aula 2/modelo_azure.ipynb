{
  "cells": [
    {
      "cell_type": "code",
      "source": [
        "from azure.ai.ml import MLClient \n",
        "from azure.identity import DefaultAzureCredential \n",
        "from azure.ai.ml import command \n",
        "from azure.ai.ml import Input \n",
        "from azure.ai.ml.constants import AssetTypes, InputOutputModes"
      ],
      "outputs": [],
      "execution_count": 1,
      "metadata": {
        "gather": {
          "logged": 1714609480539
        }
      }
    },
    {
      "cell_type": "code",
      "source": [
        "job = command( \n",
        "\tinputs={ \n",
        "    \t\"dataset\": Input(type=\"uri_file\",path=\"azureml:analise_sentimentos:1\", mode='ro_mount') \n",
        "\t}, \n",
        "\tcode=\"./\",  \n",
        "\tcommand=\"python treinamento.py --dataset ${{inputs.dataset}}\", \n",
        "\tenvironment=\"AzureML-sklearn-1.0-ubuntu20.04-py38-cpu@latest\", \n",
        "\texperiment_name=\"analise_sentimentos\", \n",
        "\tdisplay_name=\"analise_sentimentos\", \n",
        ")\n"
      ],
      "outputs": [],
      "execution_count": 2,
      "metadata": {
        "jupyter": {
          "source_hidden": false,
          "outputs_hidden": false
        },
        "nteract": {
          "transient": {
            "deleting": false
          }
        },
        "gather": {
          "logged": 1714609480592
        }
      }
    },
    {
      "cell_type": "code",
      "source": [
        "ml_client = MLClient.from_config(credential=DefaultAzureCredential()) \n",
        " \n",
        "ml_client.create_or_update(job)"
      ],
      "outputs": [
        {
          "output_type": "stream",
          "name": "stderr",
          "text": "Found the config file in: /config.json\nClass AutoDeleteSettingSchema: This is an experimental class, and may change at any time. Please see https://aka.ms/azuremlexperimental for more information.\nClass AutoDeleteConditionSchema: This is an experimental class, and may change at any time. Please see https://aka.ms/azuremlexperimental for more information.\nClass BaseAutoDeleteSettingSchema: This is an experimental class, and may change at any time. Please see https://aka.ms/azuremlexperimental for more information.\nClass IntellectualPropertySchema: This is an experimental class, and may change at any time. Please see https://aka.ms/azuremlexperimental for more information.\nClass ProtectionLevelSchema: This is an experimental class, and may change at any time. Please see https://aka.ms/azuremlexperimental for more information.\nClass BaseIntellectualPropertySchema: This is an experimental class, and may change at any time. Please see https://aka.ms/azuremlexperimental for more information.\n\u001b[32mUploading aula 2 (0.06 MBs): 100%|██████████| 61236/61236 [00:00<00:00, 568983.13it/s]\n\u001b[39m\n\n"
        },
        {
          "output_type": "execute_result",
          "execution_count": 3,
          "data": {
            "text/plain": "Command({'parameters': {}, 'init': False, 'name': 'musing_steelpan_wfgf67f4bm', 'type': 'command', 'status': 'Starting', 'log_files': None, 'description': None, 'tags': {}, 'properties': {'_azureml.ComputeTargetType': 'amlctrain', '_azureml.ClusterName': None, 'ContentSnapshotId': 'af264bab-81d3-49f1-8295-fa9d537699b6'}, 'print_as_yaml': True, 'id': '/subscriptions/507fb825-19a0-4a3f-8e46-2a5de5060508/resourceGroups/lucas.oliveira.fiap-rg/providers/Microsoft.MachineLearningServices/workspaces/meu_workspace_1/jobs/musing_steelpan_wfgf67f4bm', 'Resource__source_path': None, 'base_path': '/mnt/batch/tasks/shared/LS_root/mounts/clusters/meucomp/code/Users/lucas.oliveira.fiap/aula 2', 'creation_context': <azure.ai.ml.entities._system_data.SystemData object at 0x7f75a1d04310>, 'serialize': <msrest.serialization.Serializer object at 0x7f75a1d3e110>, 'allowed_keys': {}, 'key_restriction': False, 'logger': <Logger attr_dict (WARNING)>, 'display_name': 'analise_sentimentos', 'experiment_name': 'analise_sentimentos', 'compute': None, 'services': {'Tracking': {'endpoint': 'azureml://eastus2.api.azureml.ms/mlflow/v1.0/subscriptions/507fb825-19a0-4a3f-8e46-2a5de5060508/resourceGroups/lucas.oliveira.fiap-rg/providers/Microsoft.MachineLearningServices/workspaces/meu_workspace_1?', 'type': 'Tracking'}, 'Studio': {'endpoint': 'https://ml.azure.com/runs/musing_steelpan_wfgf67f4bm?wsid=/subscriptions/507fb825-19a0-4a3f-8e46-2a5de5060508/resourcegroups/lucas.oliveira.fiap-rg/workspaces/meu_workspace_1&tid=a1772561-ea69-4252-864a-53b6dfb2a464', 'type': 'Studio'}}, 'comment': None, 'job_inputs': {'dataset': {'type': 'uri_file', 'path': 'analise_sentimentos:1', 'mode': 'ro_mount'}}, 'job_outputs': {'default': {'type': 'uri_folder', 'path': 'azureml://datastores/workspaceartifactstore/ExperimentRun/dcid.musing_steelpan_wfgf67f4bm', 'mode': 'rw_mount'}}, 'inputs': {'dataset': <azure.ai.ml.entities._job.pipeline._io.base.NodeInput object at 0x7f75a1d3e3e0>}, 'outputs': {'default': <azure.ai.ml.entities._job.pipeline._io.base.NodeOutput object at 0x7f75a1d3e7a0>}, 'component': CommandComponent({'intellectual_property': None, 'auto_increment_version': True, 'source': 'REMOTE.WORKSPACE.JOB', 'is_anonymous': False, 'auto_delete_setting': None, 'name': 'musing_steelpan_wfgf67f4bm', 'description': None, 'tags': {}, 'properties': {}, 'print_as_yaml': True, 'id': None, 'Resource__source_path': None, 'base_path': PosixPath('.'), 'creation_context': <azure.ai.ml.entities._system_data.SystemData object at 0x7f75a1d04310>, 'serialize': <msrest.serialization.Serializer object at 0x7f75a1d3e230>, 'command': 'python treinamento.py --dataset ${{inputs.dataset}}', 'code': '/subscriptions/507fb825-19a0-4a3f-8e46-2a5de5060508/resourceGroups/lucas.oliveira.fiap-rg/providers/Microsoft.MachineLearningServices/workspaces/meu_workspace_1/codes/e6a56528-6cda-43f6-8be4-10b9d74a4cd0/versions/1', 'environment_variables': {}, 'environment': 'azureml:AzureML-sklearn-1.0-ubuntu20.04-py38-cpu@latest', 'distribution': None, 'resources': None, 'queue_settings': None, 'version': None, 'latest_version': None, 'schema': None, 'type': 'command', 'display_name': 'analise_sentimentos', 'is_deterministic': True, 'inputs': {'dataset': {'type': 'uri_file', 'path': '/subscriptions/507fb825-19a0-4a3f-8e46-2a5de5060508/resourceGroups/lucas.oliveira.fiap-rg/providers/Microsoft.MachineLearningServices/workspaces/meu_workspace_1/data/analise_sentimentos/versions/1', 'mode': 'ro_mount'}}, 'outputs': {'default': {'type': 'uri_folder', 'path': 'azureml://datastores/workspaceartifactstore/ExperimentRun/dcid.musing_steelpan_wfgf67f4bm', 'mode': 'rw_mount'}}, 'yaml_str': None, 'other_parameter': {'status': 'Starting', 'parameters': {}}, 'additional_includes': [], 'CommandComponent__additional_includes_obj': None}), 'referenced_control_flow_node_instance_id': None, 'kwargs': {'services': {'Tracking': {'endpoint': 'azureml://eastus2.api.azureml.ms/mlflow/v1.0/subscriptions/507fb825-19a0-4a3f-8e46-2a5de5060508/resourceGroups/lucas.oliveira.fiap-rg/providers/Microsoft.MachineLearningServices/workspaces/meu_workspace_1?', 'type': 'Tracking'}, 'Studio': {'endpoint': 'https://ml.azure.com/runs/musing_steelpan_wfgf67f4bm?wsid=/subscriptions/507fb825-19a0-4a3f-8e46-2a5de5060508/resourcegroups/lucas.oliveira.fiap-rg/workspaces/meu_workspace_1&tid=a1772561-ea69-4252-864a-53b6dfb2a464', 'type': 'Studio'}}, 'status': 'Starting', 'creation_context': <azure.ai.ml.entities._system_data.SystemData object at 0x7f75a1d04310>}, 'instance_id': 'ba294759-92b4-48f4-94a2-979d5a0c91e7', 'source': 'BUILDER', 'validate_required_input_not_provided': True, 'limits': None, 'identity': None, 'distribution': None, 'environment_variables': {}, 'environment': 'azureml:AzureML-sklearn-1.0-ubuntu20.04-py38-cpu@latest', 'resources': {'instance_count': 1, 'shm_size': '2g'}, 'queue_settings': {'job_tier': 'standard'}, 'swept': False})",
            "text/html": "<table style=\"width:100%\"><tr><th>Experiment</th><th>Name</th><th>Type</th><th>Status</th><th>Details Page</th></tr><tr><td>analise_sentimentos</td><td>musing_steelpan_wfgf67f4bm</td><td>command</td><td>Starting</td><td><a href=\"https://ml.azure.com/runs/musing_steelpan_wfgf67f4bm?wsid=/subscriptions/507fb825-19a0-4a3f-8e46-2a5de5060508/resourcegroups/lucas.oliveira.fiap-rg/workspaces/meu_workspace_1&amp;tid=a1772561-ea69-4252-864a-53b6dfb2a464\" target=\"_blank\" rel=\"noopener\">Link to Azure Machine Learning studio</a></td></tr></table>"
          },
          "metadata": {}
        }
      ],
      "execution_count": 3,
      "metadata": {
        "jupyter": {
          "source_hidden": false,
          "outputs_hidden": false
        },
        "nteract": {
          "transient": {
            "deleting": false
          }
        },
        "gather": {
          "logged": 1714609483579
        }
      }
    },
    {
      "cell_type": "code",
      "source": [],
      "outputs": [],
      "execution_count": null,
      "metadata": {
        "jupyter": {
          "source_hidden": false,
          "outputs_hidden": false
        },
        "nteract": {
          "transient": {
            "deleting": false
          }
        }
      }
    }
  ],
  "metadata": {
    "kernelspec": {
      "name": "python310-sdkv2",
      "language": "python",
      "display_name": "Python 3.10 - SDK v2"
    },
    "language_info": {
      "name": "python",
      "version": "3.10.11",
      "mimetype": "text/x-python",
      "codemirror_mode": {
        "name": "ipython",
        "version": 3
      },
      "pygments_lexer": "ipython3",
      "nbconvert_exporter": "python",
      "file_extension": ".py"
    },
    "kernel_info": {
      "name": "python310-sdkv2"
    },
    "nteract": {
      "version": "nteract-front-end@1.0.0"
    },
    "microsoft": {
      "host": {
        "AzureML": {
          "notebookHasBeenCompleted": true
        }
      }
    }
  },
  "nbformat": 4,
  "nbformat_minor": 2
}