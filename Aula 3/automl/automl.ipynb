{
  "cells": [
    {
      "cell_type": "code",
      "source": [
        "!git clone https://github.com/lucolivi/dados-emprestimo.git"
      ],
      "outputs": [
        {
          "output_type": "stream",
          "name": "stdout",
          "text": "Cloning into 'dados-emprestimo'...\nremote: Enumerating objects: 11, done.\u001b[K\nremote: Counting objects: 100% (11/11), done.\u001b[K\nremote: Compressing objects: 100% (11/11), done.\u001b[K\nremote: Total 11 (delta 1), reused 0 (delta 0), pack-reused 0\u001b[K\nReceiving objects: 100% (11/11), 81.92 KiB | 1.71 MiB/s, done.\nResolving deltas: 100% (1/1), done.\n"
        }
      ],
      "execution_count": 2,
      "metadata": {
        "gather": {
          "logged": 1714514008016
        }
      }
    },
    {
      "cell_type": "code",
      "source": [
        "from azure.ai.ml.entities import Data\n",
        "from azure.ai.ml.constants import AssetTypes\n",
        "from azure.identity import DefaultAzureCredential\n",
        "from azure.ai.ml import automl, Input, MLClient, command\n",
        "from azure.ai.ml.automl import classification"
      ],
      "outputs": [],
      "execution_count": 3,
      "metadata": {
        "jupyter": {
          "source_hidden": false,
          "outputs_hidden": false
        },
        "nteract": {
          "transient": {
            "deleting": false
          }
        },
        "gather": {
          "logged": 1714514027972
        }
      }
    },
    {
      "cell_type": "code",
      "source": [
        "ml_client = MLClient.from_config(DefaultAzureCredential())\n",
        "\n",
        "my_data = Data(\n",
        "    path=\"./dados-emprestimo\",\n",
        "    type=\"mltable\",\n",
        "    description=\"Conjunto de dados sobre realização de empréstimos.\",\n",
        "    name=\"dados-emprestimo\",\n",
        ")\n",
        "\n",
        "ml_client.data.create_or_update(my_data)"
      ],
      "outputs": [
        {
          "output_type": "stream",
          "name": "stderr",
          "text": "Found the config file in: /config.json\n\u001b[32mUploading dados-emprestimo (0.5 MBs): 100%|██████████| 498711/498711 [00:00<00:00, 1671271.91it/s]\n\u001b[39m\n\n"
        },
        {
          "output_type": "execute_result",
          "execution_count": 4,
          "data": {
            "text/plain": "Data({'skip_validation': False, 'mltable_schema_url': None, 'referenced_uris': ['./loan_approval_dataset.csv'], 'type': 'mltable', 'is_anonymous': False, 'auto_increment_version': False, 'auto_delete_setting': None, 'name': 'dados-emprestimo', 'description': 'Conjunto de dados sobre realização de empréstimos.', 'tags': {}, 'properties': {}, 'print_as_yaml': True, 'id': '/subscriptions/507fb825-19a0-4a3f-8e46-2a5de5060508/resourceGroups/lucas.oliveira.fiap-rg/providers/Microsoft.MachineLearningServices/workspaces/meu_workspace_1/data/dados-emprestimo/versions/2', 'Resource__source_path': None, 'base_path': '/mnt/batch/tasks/shared/LS_root/mounts/clusters/minhamaquina/code/Users/lucas.oliveira.fiap', 'creation_context': <azure.ai.ml.entities._system_data.SystemData object at 0x7fb5391e00a0>, 'serialize': <msrest.serialization.Serializer object at 0x7fb5391e12d0>, 'version': '2', 'latest_version': None, 'path': 'azureml://subscriptions/507fb825-19a0-4a3f-8e46-2a5de5060508/resourcegroups/lucas.oliveira.fiap-rg/workspaces/meu_workspace_1/datastores/workspaceblobstore/paths/LocalUpload/58accacc68ee8a45dc8323c0e2bbef8e/dados-emprestimo/', 'datastore': None})"
          },
          "metadata": {}
        }
      ],
      "execution_count": 4,
      "metadata": {
        "jupyter": {
          "source_hidden": false,
          "outputs_hidden": false
        },
        "nteract": {
          "transient": {
            "deleting": false
          }
        },
        "gather": {
          "logged": 1714514120885
        }
      }
    },
    {
      "cell_type": "code",
      "source": [
        "classification_job = automl.classification(\n",
        "    compute=\"meucluster\",\n",
        "    experiment_name=\"emprestimo-automl\",\n",
        "    training_data=Input(type=\"mltable\", path=\"azureml:dados-emprestimo:1\"),\n",
        "    target_column_name=\"loan_status\",\n",
        "    primary_metric=\"accuracy\",\n",
        "    n_cross_validations=5\n",
        ")"
      ],
      "outputs": [],
      "execution_count": 6,
      "metadata": {
        "jupyter": {
          "source_hidden": false,
          "outputs_hidden": false
        },
        "nteract": {
          "transient": {
            "deleting": false
          }
        },
        "gather": {
          "logged": 1714514433935
        }
      }
    },
    {
      "cell_type": "code",
      "source": [
        "classification_job.set_limits(\n",
        "    timeout_minutes=600,\n",
        "    trial_timeout_minutes=20,\n",
        "    max_trials=5,\n",
        "    enable_early_termination=True,\n",
        "    max_concurrent_trials=3\n",
        ")"
      ],
      "outputs": [],
      "execution_count": 8,
      "metadata": {
        "jupyter": {
          "source_hidden": false,
          "outputs_hidden": false
        },
        "nteract": {
          "transient": {
            "deleting": false
          }
        },
        "gather": {
          "logged": 1714514960468
        }
      }
    },
    {
      "cell_type": "code",
      "source": [
        "ml_client.jobs.create_or_update(classification_job)"
      ],
      "outputs": [
        {
          "output_type": "execute_result",
          "execution_count": 9,
          "data": {
            "text/plain": "ClassificationJob({'log_verbosity': <LogVerbosity.INFO: 'Info'>, 'target_column_name': 'loan_status', 'weight_column_name': None, 'validation_data_size': None, 'cv_split_column_names': None, 'n_cross_validations': 5, 'test_data_size': None, 'task_type': <TaskType.CLASSIFICATION: 'Classification'>, 'training_data': {'type': 'mltable', 'path': '/subscriptions/507fb825-19a0-4a3f-8e46-2a5de5060508/resourceGroups/lucas.oliveira.fiap-rg/providers/Microsoft.MachineLearningServices/workspaces/meu_workspace_1/data/dados-emprestimo/versions/1'}, 'validation_data': {'type': 'mltable'}, 'test_data': None, 'environment_id': None, 'environment_variables': None, 'outputs': {}, 'type': 'automl', 'status': 'NotStarted', 'log_files': None, 'name': 'joyful_parrot_yxtsprkvcc', 'description': None, 'tags': {}, 'properties': {}, 'print_as_yaml': True, 'id': '/subscriptions/507fb825-19a0-4a3f-8e46-2a5de5060508/resourceGroups/lucas.oliveira.fiap-rg/providers/Microsoft.MachineLearningServices/workspaces/meu_workspace_1/jobs/joyful_parrot_yxtsprkvcc', 'Resource__source_path': None, 'base_path': '/mnt/batch/tasks/shared/LS_root/mounts/clusters/minhamaquina/code/Users/lucas.oliveira.fiap', 'creation_context': <azure.ai.ml._restclient.v2023_04_01_preview.models._models_py3.SystemData object at 0x7fb53b256fe0>, 'serialize': <msrest.serialization.Serializer object at 0x7fb5391e2890>, 'inputs': {}, 'display_name': 'joyful_parrot_yxtsprkvcc', 'experiment_name': 'emprestimo-automl', 'compute': 'meucluster', 'services': {'Tracking': <azure.ai.ml._restclient.v2023_04_01_preview.models._models_py3.JobService object at 0x7fb53b2565c0>, 'Studio': <azure.ai.ml._restclient.v2023_04_01_preview.models._models_py3.JobService object at 0x7fb53b256950>}, 'resources': <azure.ai.ml._restclient.v2023_04_01_preview.models._models_py3.JobResourceConfiguration object at 0x7fb53b256da0>, 'identity': None, 'queue_settings': None, 'featurization': None, 'limits': <azure.ai.ml.entities._job.automl.tabular.limit_settings.TabularLimitSettings object at 0x7fb5391e23b0>, 'training': <azure.ai.ml.entities._job.automl.training_settings.ClassificationTrainingSettings object at 0x7fb5391e36d0>, 'primary_metric': <ClassificationPrimaryMetrics.ACCURACY: 'Accuracy'>, 'positive_label': None})",
            "text/html": "<table style=\"width:100%\"><tr><th>Experiment</th><th>Name</th><th>Type</th><th>Status</th><th>Details Page</th></tr><tr><td>emprestimo-automl</td><td>joyful_parrot_yxtsprkvcc</td><td>automl</td><td>NotStarted</td><td><a href=\"https://ml.azure.com/runs/joyful_parrot_yxtsprkvcc?wsid=/subscriptions/507fb825-19a0-4a3f-8e46-2a5de5060508/resourcegroups/lucas.oliveira.fiap-rg/workspaces/meu_workspace_1&amp;tid=a1772561-ea69-4252-864a-53b6dfb2a464\" target=\"_blank\" rel=\"noopener\">Link to Azure Machine Learning studio</a></td></tr></table>"
          },
          "metadata": {}
        }
      ],
      "execution_count": 9,
      "metadata": {
        "jupyter": {
          "source_hidden": false,
          "outputs_hidden": false
        },
        "nteract": {
          "transient": {
            "deleting": false
          }
        },
        "gather": {
          "logged": 1714514968395
        }
      }
    },
    {
      "cell_type": "code",
      "source": [],
      "outputs": [],
      "execution_count": null,
      "metadata": {
        "jupyter": {
          "source_hidden": false,
          "outputs_hidden": false
        },
        "nteract": {
          "transient": {
            "deleting": false
          }
        }
      }
    }
  ],
  "metadata": {
    "kernelspec": {
      "name": "python310-sdkv2",
      "language": "python",
      "display_name": "Python 3.10 - SDK v2"
    },
    "language_info": {
      "name": "python",
      "version": "3.10.11",
      "mimetype": "text/x-python",
      "codemirror_mode": {
        "name": "ipython",
        "version": 3
      },
      "pygments_lexer": "ipython3",
      "nbconvert_exporter": "python",
      "file_extension": ".py"
    },
    "kernel_info": {
      "name": "python310-sdkv2"
    },
    "microsoft": {
      "host": {
        "AzureML": {
          "notebookHasBeenCompleted": true
        }
      }
    },
    "nteract": {
      "version": "nteract-front-end@1.0.0"
    }
  },
  "nbformat": 4,
  "nbformat_minor": 2
}