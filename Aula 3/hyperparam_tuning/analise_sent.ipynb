{
  "cells": [
    {
      "cell_type": "code",
      "source": [
        "!git clone https://github.com/lucolivi/sentiment_analysis_dataset.git"
      ],
      "outputs": [
        {
          "output_type": "stream",
          "name": "stdout",
          "text": "Cloning into 'sentiment_analysis_dataset'...\nremote: Enumerating objects: 9, done.\u001b[K\nremote: Counting objects: 100% (9/9), done.\u001b[K\nremote: Compressing objects: 100% (8/8), done.\u001b[K\nremote: Total 9 (delta 1), reused 0 (delta 0), pack-reused 0\u001b[K\nReceiving objects: 100% (9/9), 999.92 KiB | 11.63 MiB/s, done.\nResolving deltas: 100% (1/1), done.\n"
        }
      ],
      "execution_count": 1,
      "metadata": {}
    },
    {
      "cell_type": "code",
      "source": [
        "from azure.ai.ml.entities import Data\n",
        "from azure.identity import DefaultAzureCredential\n",
        "from azure.ai.ml import automl, Input, MLClient, command\n",
        "from azure.ai.ml.sweep import Choice"
      ],
      "outputs": [],
      "execution_count": 2,
      "metadata": {
        "jupyter": {
          "source_hidden": false,
          "outputs_hidden": false
        },
        "nteract": {
          "transient": {
            "deleting": false
          }
        },
        "gather": {
          "logged": 1714516515575
        }
      }
    },
    {
      "cell_type": "code",
      "source": [
        "ml_client = MLClient.from_config(DefaultAzureCredential())"
      ],
      "outputs": [
        {
          "output_type": "stream",
          "name": "stderr",
          "text": "Found the config file in: /config.json\n"
        }
      ],
      "execution_count": 3,
      "metadata": {
        "jupyter": {
          "source_hidden": false,
          "outputs_hidden": false
        },
        "nteract": {
          "transient": {
            "deleting": false
          }
        },
        "gather": {
          "logged": 1714516522386
        }
      }
    },
    {
      "cell_type": "code",
      "source": [
        "dados = Data(\n",
        "    path=\"./sentiment_analysis_dataset/dataset.csv\",\n",
        "    type=\"uri_file\",\n",
        "    description=\"Conjunto de dados sobre sentimentos de textos em inglês.\",\n",
        "    name=\"dados-sentimentos\",\n",
        ")\n",
        "\n",
        "ml_client.data.create_or_update(dados)"
      ],
      "outputs": [
        {
          "output_type": "execute_result",
          "execution_count": 4,
          "data": {
            "text/plain": "Data({'skip_validation': False, 'mltable_schema_url': None, 'referenced_uris': None, 'type': 'uri_file', 'is_anonymous': False, 'auto_increment_version': False, 'auto_delete_setting': None, 'name': 'dados-sentimentos', 'description': 'Conjunto de dados sobre sentimentos de textos em inglês.', 'tags': {}, 'properties': {}, 'print_as_yaml': True, 'id': '/subscriptions/507fb825-19a0-4a3f-8e46-2a5de5060508/resourceGroups/lucas.oliveira.fiap-rg/providers/Microsoft.MachineLearningServices/workspaces/meu_workspace_1/data/dados-sentimentos/versions/2', 'Resource__source_path': None, 'base_path': '/mnt/batch/tasks/shared/LS_root/mounts/clusters/minhamaquina/code/Users/lucas.oliveira.fiap/hyperparam_tuning', 'creation_context': <azure.ai.ml.entities._system_data.SystemData object at 0x7f09ad980d00>, 'serialize': <msrest.serialization.Serializer object at 0x7f09ad9808b0>, 'version': '2', 'latest_version': None, 'path': 'azureml://subscriptions/507fb825-19a0-4a3f-8e46-2a5de5060508/resourcegroups/lucas.oliveira.fiap-rg/workspaces/meu_workspace_1/datastores/workspaceblobstore/paths/LocalUpload/b4da83d15193087f85c0098b7e72959a/dataset.csv', 'datastore': None})"
          },
          "metadata": {}
        }
      ],
      "execution_count": 4,
      "metadata": {
        "jupyter": {
          "source_hidden": false,
          "outputs_hidden": false
        },
        "nteract": {
          "transient": {
            "deleting": false
          }
        },
        "gather": {
          "logged": 1714516589097
        }
      }
    },
    {
      "cell_type": "code",
      "source": [
        "job = command(\n",
        "    inputs={\n",
        "        \"dataset\": Input(type=\"uri_file\", path=\"azureml:dados-sentimentos:1\", mode=\"ro_mount\"),\n",
        "        \"criterion\": \"gini\",\n",
        "        \"n_estimators\": 5\n",
        "    },\n",
        "    compute=\"meucluster\",\n",
        "    environment=\"AzureML-sklearn-1.0-ubuntu20.04-py38-cpu@latest\",\n",
        "    code=\"./\",\n",
        "    command=\"python analise_sent.py --dataset ${{inputs.dataset}} --criterion ${{inputs.criterion}} --n-estimators ${{inputs.n_estimators}}\",\n",
        "    experiment_name=\"analise_sentimentos\",\n",
        "    display_name=\"analise_sentimentos\",\n",
        ")"
      ],
      "outputs": [],
      "execution_count": 5,
      "metadata": {
        "jupyter": {
          "source_hidden": false,
          "outputs_hidden": false
        },
        "nteract": {
          "transient": {
            "deleting": false
          }
        },
        "gather": {
          "logged": 1714516718694
        }
      }
    },
    {
      "cell_type": "code",
      "source": [
        "ml_client.jobs.create_or_update(job)"
      ],
      "outputs": [
        {
          "output_type": "stream",
          "name": "stderr",
          "text": "Class AutoDeleteSettingSchema: This is an experimental class, and may change at any time. Please see https://aka.ms/azuremlexperimental for more information.\nClass AutoDeleteConditionSchema: This is an experimental class, and may change at any time. Please see https://aka.ms/azuremlexperimental for more information.\nClass BaseAutoDeleteSettingSchema: This is an experimental class, and may change at any time. Please see https://aka.ms/azuremlexperimental for more information.\nClass IntellectualPropertySchema: This is an experimental class, and may change at any time. Please see https://aka.ms/azuremlexperimental for more information.\nClass ProtectionLevelSchema: This is an experimental class, and may change at any time. Please see https://aka.ms/azuremlexperimental for more information.\nClass BaseIntellectualPropertySchema: This is an experimental class, and may change at any time. Please see https://aka.ms/azuremlexperimental for more information.\n\u001b[32mUploading hyperparam_tuning (3.52 MBs): 100%|██████████| 3524354/3524354 [00:00<00:00, 9820116.85it/s] \n\u001b[39m\n\n"
        }
      ],
      "execution_count": 6,
      "metadata": {
        "jupyter": {
          "source_hidden": false,
          "outputs_hidden": false
        },
        "nteract": {
          "transient": {
            "deleting": false
          }
        }
      }
    },
    {
      "cell_type": "code",
      "source": [
        "job_for_sweep = job(\n",
        "    criterion=Choice(values=[\"gini\", \"entropy\"]),\n",
        "    n_estimators=Choice(values=[5, 10, 15, 20, 25, 30])\n",
        ")"
      ],
      "outputs": [],
      "execution_count": 7,
      "metadata": {
        "jupyter": {
          "source_hidden": false,
          "outputs_hidden": false
        },
        "nteract": {
          "transient": {
            "deleting": false
          }
        },
        "gather": {
          "logged": 1714517029221
        }
      }
    },
    {
      "cell_type": "code",
      "source": [
        "sweep_job = job_for_sweep.sweep(\n",
        "    compute=\"meucluster\",\n",
        "    sampling_algorithm=\"random\",\n",
        "    primary_metric=\"test_accuracy_score\",\n",
        "    goal=\"Maximize\",\n",
        "    max_total_trials=12,\n",
        "    max_concurrent_trials=3,\n",
        ")"
      ],
      "outputs": [],
      "execution_count": 8,
      "metadata": {
        "jupyter": {
          "source_hidden": false,
          "outputs_hidden": false
        },
        "nteract": {
          "transient": {
            "deleting": false
          }
        },
        "gather": {
          "logged": 1714517275979
        }
      }
    },
    {
      "cell_type": "code",
      "source": [
        "ml_client.create_or_update(sweep_job)"
      ],
      "outputs": [
        {
          "output_type": "execute_result",
          "execution_count": 9,
          "data": {
            "text/plain": "SweepJob({'type': 'sweep', 'status': 'Running', 'log_files': None, 'name': 'maroon_knee_rmt27n6chz', 'description': None, 'tags': {'_aml_system_max_concurrent_jobs': '3', '_aml_system_max_total_jobs': '12', '_aml_system_max_duration_minutes': '86400', '_aml_system_policy_config': '{\"name\":\"Default\",\"properties\":{}}', '_aml_system_generator_config': '{\"name\":\"RANDOM\",\"parameter_space\":{\"criterion\":[\"choice\",[[\"gini\",\"entropy\"]]],\"n_estimators\":[\"choice\",[[5,10,15,20,25,30]]]},\"properties\":{\"rule\":\"Random\",\"logbase\":null,\"seed\":null}}', '_aml_system_primary_metric_config': '{\"name\":\"test_accuracy_score\",\"goal\":\"maximize\"}', '_aml_system_platform_config': '{\"ServiceAddress\":\"https://eastus2.api.azureml.ms\",\"SubscriptionId\":\"507fb825-19a0-4a3f-8e46-2a5de5060508\",\"ResourceGroupName\":\"lucas.oliveira.fiap-rg\",\"WorkspaceName\":\"meu_workspace_1\",\"ExperimentName\":\"hyperparam_tuning\",\"Definition\":{\"Configuration\":null,\"Attribution\":null,\"TelemetryValues\":null,\"Overrides\":{\"Script\":null,\"Command\":\"python analise_sent.py --dataset ${{inputs.dataset}} --criterion ${{search_space.criterion}} --n-estimators ${{search_space.n_estimators}}\",\"UseAbsolutePath\":true,\"Arguments\":[],\"SourceDirectoryDataStore\":null,\"Framework\":0,\"Target\":\"meucluster\",\"DataReferences\":{},\"Data\":{\"dataset\":{\"DataLocation\":{\"Dataset\":null,\"DataPath\":null,\"Uri\":{\"Path\":\"/subscriptions/507fb825-19a0-4a3f-8e46-2a5de5060508/resourceGroups/lucas.oliveira.fiap-rg/providers/Microsoft.MachineLearningServices/workspaces/meu_workspace_1/data/dados-sentimentos/versions/1\",\"IsFile\":true},\"Type\":\"UriFile\"},\"Mechanism\":\"Mount\",\"EnvironmentVariableName\":\"AZURE_ML_INPUT_dataset\",\"PathOnCompute\":null,\"Overwrite\":false,\"Options\":{\"IsEvalMode\":\"False\",\"ReadWrite\":\"False\",\"ForceFolder\":\"False\"}}},\"InputAssets\":{\"dataset\":{\"Asset\":{\"AssetId\":\"azureml://locations/eastus2/workspaces/154801fa-41b7-41b5-92f7-b1197dd37eef/data/dados-sentimentos/versions/1\",\"Type\":\"UriFile\"},\"Mechanism\":\"Mount\",\"EnvironmentVariableName\":\"AZURE_ML_INPUT_dataset\",\"PathOnCompute\":null,\"Overwrite\":false,\"Options\":{\"IsEvalMode\":\"False\",\"ReadWrite\":\"False\",\"ForceFolder\":\"False\"}}},\"OutputData\":{},\"Datacaches\":[],\"JobName\":null,\"MaxRunDurationSeconds\":null,\"NodeCount\":1,\"InstanceTypes\":[],\"Priority\":null,\"CredentialPassthrough\":false,\"Identity\":null,\"Environment\":{\"Name\":\"AzureML-sklearn-1.0-ubuntu20.04-py38-cpu\",\"Version\":\"36\",\"AssetId\":\"azureml://registries/azureml/environments/AzureML-sklearn-1.0-ubuntu20.04-py38-cpu/versions/36\",\"AutoRebuild\":true,\"Python\":{\"InterpreterPath\":\"python\",\"UserManagedDependencies\":true,\"CondaDependencies\":null,\"BaseCondaEnvironment\":null},\"EnvironmentVariables\":{\"EXAMPLE_ENV_VAR\":\"EXAMPLE_VALUE\"},\"Docker\":{\"BaseImage\":null,\"Platform\":{\"Os\":\"Linux\",\"Architecture\":\"amd64\"},\"BaseDockerfile\":\"FROM mcr.microsoft.com/azureml/openmpi4.1.0-ubuntu20.04:20230608.v1\\\\n\\\\nENV AZUREML_CONDA_ENVIRONMENT_PATH /azureml-envs/sklearn-1.0\\\\n# Create conda environment\\\\nRUN conda create -p $AZUREML_CONDA_ENVIRONMENT_PATH \\\\\\\\\\\\n    python=3.8 pip=21.3.1 -c anaconda -c conda-forge\\\\n\\\\n# Prepend path to AzureML conda environment\\\\nENV PATH $AZUREML_CONDA_ENVIRONMENT_PATH/bin:$PATH\\\\n\\\\n# Install pip dependencies\\\\nRUN pip install \\'matplotlib~=3.5.0\\' \\\\\\\\\\\\n                \\'psutil~=5.8.0\\' \\\\\\\\\\\\n                \\'tqdm~=4.62.0\\' \\\\\\\\\\\\n                \\'pandas~=1.3.0\\' \\\\\\\\\\\\n                \\'scipy~=1.7.0\\' \\\\\\\\\\\\n                \\'numpy~=1.21.0\\' \\\\\\\\\\\\n                \\'ipykernel~=6.0\\' \\\\\\\\\\\\n                \\'azureml-core==1.51.0\\' \\\\\\\\\\\\n                \\'azureml-defaults==1.51.0\\' \\\\\\\\\\\\n                \\'azureml-mlflow==1.51.0\\' \\\\\\\\\\\\n                \\'azureml-telemetry==1.51.0\\' \\\\\\\\\\\\n                \\'scikit-learn~=1.0.0\\' \\\\\\\\\\\\n                \\'debugpy~=1.6.3\\'\\\\n\\\\n# This is needed for mpi to locate libpython\\\\nENV LD_LIBRARY_PATH $AZUREML_CONDA_ENVIRONMENT_PATH/lib:$LD_LIBRARY_PATH\\\\n\",\"BaseImageRegistry\":{\"Address\":null,\"Username\":null,\"Password\":null},\"Enabled\":false,\"Arguments\":[]},\"Spark\":{\"Repositories\":[],\"Packages\":[],\"PrecachePackages\":true},\"InferencingStackVersion\":null},\"History\":{\"OutputCollection\":true,\"DirectoriesToWatch\":[\"logs\"],\"EnableMLflowTracking\":true},\"Spark\":{\"Configuration\":{}},\"ParallelTask\":{\"MaxRetriesPerWorker\":0,\"WorkerCountPerNode\":1,\"TerminalExitCodes\":null,\"Configuration\":{}},\"BatchAi\":{\"NodeCount\":0},\"AmlCompute\":{\"Name\":null,\"VmSize\":null,\"RetainCluster\":false,\"ClusterMaxNodeCount\":null},\"AISuperComputer\":{\"InstanceType\":\"D2\",\"FrameworkImage\":null,\"ImageVersion\":null,\"Location\":null,\"AISuperComputerStorageData\":null,\"Interactive\":false,\"ScalePolicy\":null,\"VirtualClusterArmId\":null,\"TensorboardLogDirectory\":null,\"SSHPublicKey\":null,\"SSHPublicKeys\":null,\"EnableAzmlInt\":true,\"Priority\":\"Medium\",\"SLATier\":\"Standard\",\"UserAlias\":null},\"KubernetesCompute\":{\"InstanceType\":null},\"Tensorflow\":{\"WorkerCount\":0,\"ParameterServerCount\":0},\"Mpi\":{\"ProcessCountPerNode\":0},\"PyTorch\":{\"CommunicationBackend\":null,\"ProcessCount\":null},\"Hdi\":{\"YarnDeployMode\":0},\"ContainerInstance\":{\"Region\":null,\"CpuCores\":2.0,\"MemoryGb\":3.5},\"ExposedPorts\":null,\"Docker\":{\"UseDocker\":true,\"SharedVolumes\":null,\"ShmSize\":\"2g\",\"Arguments\":null},\"Cmk8sCompute\":{\"Configuration\":{}},\"CommandReturnCodeConfig\":{\"ReturnCode\":0,\"SuccessfulReturnCodes\":[]},\"EnvironmentVariables\":{},\"ApplicationEndpoints\":{},\"Parameters\":[]},\"SnapshotId\":\"8575cd9b-31be-420e-8465-075794ff13ab\",\"Snapshots\":[],\"SourceCodeDataReference\":null,\"ParentRunId\":null,\"DataContainerId\":null,\"RunType\":null,\"DisplayName\":\"analise_sentimentos\",\"EnvironmentAssetId\":null,\"Properties\":{},\"Tags\":{},\"AggregatedArtifactPath\":null},\"ParentRunId\":\"maroon_knee_rmt27n6chz\"}', '_aml_system_resume_child_runs': 'null', '_aml_system_all_jobs_generated': 'false', '_aml_system_cancellation_requested': 'false', '_aml_system_samples_generated_count': '0'}, 'properties': {'primary_metric_config': '{\"name\":\"test_accuracy_score\",\"goal\":\"maximize\"}', 'resume_from': 'null', 'runTemplate': 'HyperDrive', 'azureml.runsource': 'hyperdrive', 'platform': 'AML', 'ContentSnapshotId': '8575cd9b-31be-420e-8465-075794ff13ab', 'user_agent': 'managementfrontend/c977753f1b5ada06967275ecfd3c9d909ebcc739'}, 'print_as_yaml': True, 'id': '/subscriptions/507fb825-19a0-4a3f-8e46-2a5de5060508/resourceGroups/lucas.oliveira.fiap-rg/providers/Microsoft.MachineLearningServices/workspaces/meu_workspace_1/jobs/maroon_knee_rmt27n6chz', 'Resource__source_path': None, 'base_path': '/mnt/batch/tasks/shared/LS_root/mounts/clusters/minhamaquina/code/Users/lucas.oliveira.fiap/hyperparam_tuning', 'creation_context': <azure.ai.ml.entities._system_data.SystemData object at 0x7f09ad6a4be0>, 'serialize': <msrest.serialization.Serializer object at 0x7f09ad6a64d0>, 'sampling_algorithm': <azure.ai.ml.entities._job.sweep.sampling_algorithm.RandomSamplingAlgorithm object at 0x7f09ad980e20>, 'early_termination': None, 'limits': <azure.ai.ml.entities._job.job_limits.SweepJobLimits object at 0x7f09ad6a5330>, 'search_space': {'criterion': <azure.ai.ml.entities._job.sweep.search_space.Choice object at 0x7f09ad6a51b0>, 'n_estimators': <azure.ai.ml.entities._job.sweep.search_space.Choice object at 0x7f09ad6a57b0>}, 'queue_settings': None, 'objective': <azure.ai.ml._restclient.v2023_04_01_preview.models._models_py3.Objective object at 0x7f09ad6a4970>, 'display_name': 'analise_sentimentos', 'experiment_name': 'hyperparam_tuning', 'compute': 'meucluster', 'services': {'Studio': <azure.ai.ml._restclient.v2023_04_01_preview.models._models_py3.JobService object at 0x7f09ad6a4a30>}, 'inputs': {'dataset': {'type': 'uri_file', 'path': 'azureml://locations/eastus2/workspaces/154801fa-41b7-41b5-92f7-b1197dd37eef/data/dados-sentimentos/versions/1', 'mode': 'ro_mount'}}, 'outputs': {'default': {'type': 'uri_folder', 'path': 'azureml://datastores/workspaceartifactstore/ExperimentRun/dcid.maroon_knee_rmt27n6chz', 'mode': 'rw_mount'}}, 'trial': <azure.ai.ml.entities._job.parameterized_command.ParameterizedCommand object at 0x7f09ad6a6b90>, 'identity': None})",
            "text/html": "<table style=\"width:100%\"><tr><th>Experiment</th><th>Name</th><th>Type</th><th>Status</th><th>Details Page</th></tr><tr><td>hyperparam_tuning</td><td>maroon_knee_rmt27n6chz</td><td>sweep</td><td>Running</td><td><a href=\"https://ml.azure.com/runs/maroon_knee_rmt27n6chz?wsid=/subscriptions/507fb825-19a0-4a3f-8e46-2a5de5060508/resourcegroups/lucas.oliveira.fiap-rg/workspaces/meu_workspace_1&amp;tid=a1772561-ea69-4252-864a-53b6dfb2a464\" target=\"_blank\" rel=\"noopener\">Link to Azure Machine Learning studio</a></td></tr></table>"
          },
          "metadata": {}
        }
      ],
      "execution_count": 9,
      "metadata": {
        "jupyter": {
          "source_hidden": false,
          "outputs_hidden": false
        },
        "nteract": {
          "transient": {
            "deleting": false
          }
        },
        "gather": {
          "logged": 1714517287413
        }
      }
    },
    {
      "cell_type": "code",
      "source": [],
      "outputs": [],
      "execution_count": null,
      "metadata": {
        "jupyter": {
          "source_hidden": false,
          "outputs_hidden": false
        },
        "nteract": {
          "transient": {
            "deleting": false
          }
        }
      }
    }
  ],
  "metadata": {
    "kernelspec": {
      "name": "python310-sdkv2",
      "language": "python",
      "display_name": "Python 3.10 - SDK v2"
    },
    "language_info": {
      "name": "python",
      "version": "3.10.11",
      "mimetype": "text/x-python",
      "codemirror_mode": {
        "name": "ipython",
        "version": 3
      },
      "pygments_lexer": "ipython3",
      "nbconvert_exporter": "python",
      "file_extension": ".py"
    },
    "kernel_info": {
      "name": "python310-sdkv2"
    },
    "microsoft": {
      "host": {
        "AzureML": {
          "notebookHasBeenCompleted": true
        }
      }
    },
    "nteract": {
      "version": "nteract-front-end@1.0.0"
    }
  },
  "nbformat": 4,
  "nbformat_minor": 2
}