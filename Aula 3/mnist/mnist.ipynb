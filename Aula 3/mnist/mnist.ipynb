{
  "cells": [
    {
      "cell_type": "code",
      "source": [
        "from azure.ai.ml import MLClient\n",
        "from azure.ai.ml import command\n",
        "from azure.identity import DefaultAzureCredential"
      ],
      "outputs": [],
      "execution_count": 2,
      "metadata": {
        "gather": {
          "logged": 1714522029147
        }
      }
    },
    {
      "cell_type": "code",
      "source": [
        "ml_client = MLClient.from_config(credential=DefaultAzureCredential())"
      ],
      "outputs": [
        {
          "output_type": "stream",
          "name": "stderr",
          "text": "Found the config file in: /config.json\n"
        }
      ],
      "execution_count": 3,
      "metadata": {
        "jupyter": {
          "source_hidden": false,
          "outputs_hidden": false
        },
        "nteract": {
          "transient": {
            "deleting": false
          }
        },
        "gather": {
          "logged": 1714522042404
        }
      }
    },
    {
      "cell_type": "code",
      "source": [
        "job = command(\n",
        "    code=\".\",\n",
        "    command=\"python mnist.py \\\n",
        "        --epochs ${{inputs.epochs}} \\\n",
        "        --model-dir ${{inputs.model_dir}} \\\n",
        "        --steps-per-epoch ${{inputs.steps_per_epoch}} \\\n",
        "        --per-worker-batch-size ${{inputs.per_worker_batch_size}}\",\n",
        "    inputs={\n",
        "        \"epochs\": 10, \n",
        "        \"model_dir\": \"outputs/keras-model\", \n",
        "        \"per_worker_batch_size\": 64,\n",
        "        \"steps_per_epoch\": 100\n",
        "    },\n",
        "    environment=\"AzureML-tensorflow-2.4-ubuntu18.04-py37-cuda11-gpu@latest\",\n",
        "    compute=\"meucluster\",\n",
        "    instance_count=3,\n",
        "    distribution={\n",
        "        \"type\": \"tensorflow\",\n",
        "        \"worker_count\": 3\n",
        "    },\n",
        "\n",
        "    display_name=\"tensorflow-distribuido\"\n",
        ")"
      ],
      "outputs": [],
      "execution_count": 4,
      "metadata": {
        "jupyter": {
          "source_hidden": false,
          "outputs_hidden": false
        },
        "nteract": {
          "transient": {
            "deleting": false
          }
        },
        "gather": {
          "logged": 1714522053495
        }
      }
    },
    {
      "cell_type": "code",
      "source": [
        "ml_client.create_or_update(job)"
      ],
      "outputs": [
        {
          "output_type": "stream",
          "name": "stderr",
          "text": "Class AutoDeleteSettingSchema: This is an experimental class, and may change at any time. Please see https://aka.ms/azuremlexperimental for more information.\nClass AutoDeleteConditionSchema: This is an experimental class, and may change at any time. Please see https://aka.ms/azuremlexperimental for more information.\nClass BaseAutoDeleteSettingSchema: This is an experimental class, and may change at any time. Please see https://aka.ms/azuremlexperimental for more information.\nClass IntellectualPropertySchema: This is an experimental class, and may change at any time. Please see https://aka.ms/azuremlexperimental for more information.\nClass ProtectionLevelSchema: This is an experimental class, and may change at any time. Please see https://aka.ms/azuremlexperimental for more information.\nClass BaseIntellectualPropertySchema: This is an experimental class, and may change at any time. Please see https://aka.ms/azuremlexperimental for more information.\n\u001b[32mUploading mnist (0.01 MBs): 100%|██████████| 6594/6594 [00:00<00:00, 111568.37it/s]\n\u001b[39m\n\n"
        },
        {
          "output_type": "execute_result",
          "execution_count": 5,
          "data": {
            "text/plain": "Command({'parameters': {}, 'init': False, 'name': 'hungry_van_fxyrvyfg3m', 'type': 'command', 'status': 'Starting', 'log_files': None, 'description': None, 'tags': {}, 'properties': {'_azureml.ComputeTargetType': 'amlctrain', '_azureml.ClusterName': 'meucluster', 'ContentSnapshotId': '98b1ed97-2431-4776-bd6c-df0073dc6654'}, 'print_as_yaml': True, 'id': '/subscriptions/507fb825-19a0-4a3f-8e46-2a5de5060508/resourceGroups/lucas.oliveira.fiap-rg/providers/Microsoft.MachineLearningServices/workspaces/meu_workspace_1/jobs/hungry_van_fxyrvyfg3m', 'Resource__source_path': None, 'base_path': '/mnt/batch/tasks/shared/LS_root/mounts/clusters/minhamaquina/code/Users/lucas.oliveira.fiap/mnist', 'creation_context': <azure.ai.ml.entities._system_data.SystemData object at 0x7f0029c4f550>, 'serialize': <msrest.serialization.Serializer object at 0x7f0029c4e650>, 'allowed_keys': {}, 'key_restriction': False, 'logger': <Logger attr_dict (WARNING)>, 'display_name': 'tensorflow-distribuido', 'experiment_name': 'mnist', 'compute': 'meucluster', 'services': {'Tracking': {'endpoint': 'azureml://eastus2.api.azureml.ms/mlflow/v1.0/subscriptions/507fb825-19a0-4a3f-8e46-2a5de5060508/resourceGroups/lucas.oliveira.fiap-rg/providers/Microsoft.MachineLearningServices/workspaces/meu_workspace_1?', 'type': 'Tracking'}, 'Studio': {'endpoint': 'https://ml.azure.com/runs/hungry_van_fxyrvyfg3m?wsid=/subscriptions/507fb825-19a0-4a3f-8e46-2a5de5060508/resourcegroups/lucas.oliveira.fiap-rg/workspaces/meu_workspace_1&tid=a1772561-ea69-4252-864a-53b6dfb2a464', 'type': 'Studio'}}, 'comment': None, 'job_inputs': {'epochs': '10', 'model_dir': 'outputs/keras-model', 'per_worker_batch_size': '64', 'steps_per_epoch': '100'}, 'job_outputs': {'default': {'type': 'uri_folder', 'path': 'azureml://datastores/workspaceartifactstore/ExperimentRun/dcid.hungry_van_fxyrvyfg3m', 'mode': 'rw_mount'}}, 'inputs': {'epochs': <azure.ai.ml.entities._job.pipeline._io.base.NodeInput object at 0x7f0029c4f8b0>, 'model_dir': <azure.ai.ml.entities._job.pipeline._io.base.NodeInput object at 0x7f0029c4e5c0>, 'per_worker_batch_size': <azure.ai.ml.entities._job.pipeline._io.base.NodeInput object at 0x7f0029c4feb0>, 'steps_per_epoch': <azure.ai.ml.entities._job.pipeline._io.base.NodeInput object at 0x7f0029c4e290>}, 'outputs': {'default': <azure.ai.ml.entities._job.pipeline._io.base.NodeOutput object at 0x7f0029c4e1d0>}, 'component': CommandComponent({'intellectual_property': None, 'auto_increment_version': True, 'source': 'REMOTE.WORKSPACE.JOB', 'is_anonymous': False, 'auto_delete_setting': None, 'name': 'hungry_van_fxyrvyfg3m', 'description': None, 'tags': {}, 'properties': {}, 'print_as_yaml': True, 'id': None, 'Resource__source_path': None, 'base_path': PosixPath('.'), 'creation_context': <azure.ai.ml.entities._system_data.SystemData object at 0x7f0029c4f550>, 'serialize': <msrest.serialization.Serializer object at 0x7f0029c4e410>, 'command': 'python mnist.py         --epochs ${{inputs.epochs}}         --model-dir ${{inputs.model_dir}}         --steps-per-epoch ${{inputs.steps_per_epoch}}         --per-worker-batch-size ${{inputs.per_worker_batch_size}}', 'code': '/subscriptions/507fb825-19a0-4a3f-8e46-2a5de5060508/resourceGroups/lucas.oliveira.fiap-rg/providers/Microsoft.MachineLearningServices/workspaces/meu_workspace_1/codes/fafa6227-9509-4521-bbd4-b97425229418/versions/1', 'environment_variables': {}, 'environment': 'azureml:AzureML-tensorflow-2.4-ubuntu18.04-py37-cuda11-gpu@latest', 'distribution': <azure.ai.ml.entities._job.distribution.TensorFlowDistribution object at 0x7f0029c4e350>, 'resources': None, 'queue_settings': None, 'version': None, 'latest_version': None, 'schema': None, 'type': 'command', 'display_name': 'tensorflow-distribuido', 'is_deterministic': True, 'inputs': {'epochs': {'type': 'string', 'default': '10'}, 'model_dir': {'type': 'string', 'default': 'outputs/keras-model'}, 'per_worker_batch_size': {'type': 'string', 'default': '64'}, 'steps_per_epoch': {'type': 'string', 'default': '100'}}, 'outputs': {'default': {'type': 'uri_folder', 'path': 'azureml://datastores/workspaceartifactstore/ExperimentRun/dcid.hungry_van_fxyrvyfg3m', 'mode': 'rw_mount'}}, 'yaml_str': None, 'other_parameter': {'status': 'Starting', 'parameters': {}}, 'additional_includes': [], 'CommandComponent__additional_includes_obj': None}), 'referenced_control_flow_node_instance_id': None, 'kwargs': {'services': {'Tracking': {'endpoint': 'azureml://eastus2.api.azureml.ms/mlflow/v1.0/subscriptions/507fb825-19a0-4a3f-8e46-2a5de5060508/resourceGroups/lucas.oliveira.fiap-rg/providers/Microsoft.MachineLearningServices/workspaces/meu_workspace_1?', 'type': 'Tracking'}, 'Studio': {'endpoint': 'https://ml.azure.com/runs/hungry_van_fxyrvyfg3m?wsid=/subscriptions/507fb825-19a0-4a3f-8e46-2a5de5060508/resourcegroups/lucas.oliveira.fiap-rg/workspaces/meu_workspace_1&tid=a1772561-ea69-4252-864a-53b6dfb2a464', 'type': 'Studio'}}, 'status': 'Starting', 'creation_context': <azure.ai.ml.entities._system_data.SystemData object at 0x7f0029c4f550>}, 'instance_id': 'c939509f-391b-4cda-a68b-e7f166c3f494', 'source': 'BUILDER', 'validate_required_input_not_provided': True, 'limits': None, 'identity': None, 'distribution': <azure.ai.ml.entities._job.distribution.TensorFlowDistribution object at 0x7f0029c4e350>, 'environment_variables': {}, 'environment': 'azureml:AzureML-tensorflow-2.4-ubuntu18.04-py37-cuda11-gpu@latest', 'resources': {'instance_count': 3, 'shm_size': '2g'}, 'queue_settings': None, 'swept': False})",
            "text/html": "<table style=\"width:100%\"><tr><th>Experiment</th><th>Name</th><th>Type</th><th>Status</th><th>Details Page</th></tr><tr><td>mnist</td><td>hungry_van_fxyrvyfg3m</td><td>command</td><td>Starting</td><td><a href=\"https://ml.azure.com/runs/hungry_van_fxyrvyfg3m?wsid=/subscriptions/507fb825-19a0-4a3f-8e46-2a5de5060508/resourcegroups/lucas.oliveira.fiap-rg/workspaces/meu_workspace_1&amp;tid=a1772561-ea69-4252-864a-53b6dfb2a464\" target=\"_blank\" rel=\"noopener\">Link to Azure Machine Learning studio</a></td></tr></table>"
          },
          "metadata": {}
        }
      ],
      "execution_count": 5,
      "metadata": {
        "jupyter": {
          "source_hidden": false,
          "outputs_hidden": false
        },
        "nteract": {
          "transient": {
            "deleting": false
          }
        },
        "gather": {
          "logged": 1714522296333
        }
      }
    },
    {
      "cell_type": "code",
      "source": [],
      "outputs": [],
      "execution_count": null,
      "metadata": {
        "jupyter": {
          "source_hidden": false,
          "outputs_hidden": false
        },
        "nteract": {
          "transient": {
            "deleting": false
          }
        }
      }
    }
  ],
  "metadata": {
    "kernelspec": {
      "name": "python310-sdkv2",
      "language": "python",
      "display_name": "Python 3.10 - SDK v2"
    },
    "language_info": {
      "name": "python",
      "version": "3.10.11",
      "mimetype": "text/x-python",
      "codemirror_mode": {
        "name": "ipython",
        "version": 3
      },
      "pygments_lexer": "ipython3",
      "nbconvert_exporter": "python",
      "file_extension": ".py"
    },
    "kernel_info": {
      "name": "python310-sdkv2"
    },
    "nteract": {
      "version": "nteract-front-end@1.0.0"
    }
  },
  "nbformat": 4,
  "nbformat_minor": 2
}